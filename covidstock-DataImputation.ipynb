{
 "cells": [
  {
   "cell_type": "code",
   "execution_count": 2,
   "metadata": {},
   "outputs": [],
   "source": [
    "#Loading required R libraries \n",
    "library(quantmod)\n",
    "library(plyr)\n",
    "library(dplyr)\n",
    "library(data.table)\n",
    "library(DMwR)\n",
    "library(mice)\n",
    "defaultW <- getOption(\"warn\") \n",
    "options(warn = -1) "
   ]
  },
  {
   "cell_type": "code",
   "execution_count": 4,
   "metadata": {},
   "outputs": [
    {
     "name": "stderr",
     "output_type": "stream",
     "text": [
      "pausing 1 second between requests for more than 5 symbols\n",
      "pausing 1 second between requests for more than 5 symbols\n",
      "pausing 1 second between requests for more than 5 symbols\n",
      "pausing 1 second between requests for more than 5 symbols\n",
      "pausing 1 second between requests for more than 5 symbols\n",
      "pausing 1 second between requests for more than 5 symbols\n"
     ]
    },
    {
     "data": {
      "text/html": [
       "<ol class=list-inline>\n",
       "\t<li>'DJI'</li>\n",
       "\t<li>'DPZ'</li>\n",
       "\t<li>'GOOG'</li>\n",
       "\t<li>'IBM'</li>\n",
       "\t<li>'AMZN'</li>\n",
       "\t<li>'AMD'</li>\n",
       "\t<li>'GM'</li>\n",
       "\t<li>'F'</li>\n",
       "\t<li>'GE'</li>\n",
       "\t<li>'BA'</li>\n",
       "</ol>\n"
      ],
      "text/latex": [
       "\\begin{enumerate*}\n",
       "\\item 'DJI'\n",
       "\\item 'DPZ'\n",
       "\\item 'GOOG'\n",
       "\\item 'IBM'\n",
       "\\item 'AMZN'\n",
       "\\item 'AMD'\n",
       "\\item 'GM'\n",
       "\\item 'F'\n",
       "\\item 'GE'\n",
       "\\item 'BA'\n",
       "\\end{enumerate*}\n"
      ],
      "text/markdown": [
       "1. 'DJI'\n",
       "2. 'DPZ'\n",
       "3. 'GOOG'\n",
       "4. 'IBM'\n",
       "5. 'AMZN'\n",
       "6. 'AMD'\n",
       "7. 'GM'\n",
       "8. 'F'\n",
       "9. 'GE'\n",
       "10. 'BA'\n",
       "\n",
       "\n"
      ],
      "text/plain": [
       " [1] \"DJI\"  \"DPZ\"  \"GOOG\" \"IBM\"  \"AMZN\" \"AMD\"  \"GM\"   \"F\"    \"GE\"   \"BA\"  "
      ]
     },
     "metadata": {},
     "output_type": "display_data"
    }
   ],
   "source": [
    "#Load dataset using Quantmod\n",
    "stocklist <- c(\"DJI\",\"DPZ\",\"GOOG\",\"IBM\",\"AMZN\",\"AMD\",\"GM\",\"F\",\"GE\",\"BA\")\n",
    "getSymbols(stocklist, from='2020-03-01',to='2020-06-01')\n",
    "# To assign it from yahoo instead of Google\n",
    "#getSymbols(stocklist,src=\"yahoo\", auto.assign=FALSE, from='2020-03-01',to='2020-06-01')\n",
    "options(\"getSymbols.warning4.0\"=FALSE)"
   ]
  },
  {
   "cell_type": "code",
   "execution_count": 5,
   "metadata": {},
   "outputs": [
    {
     "data": {
      "text/html": [
       "<table>\n",
       "<thead><tr><th scope=col>Date</th><th scope=col>DJI</th><th scope=col>DPZ</th><th scope=col>GOOG</th><th scope=col>IBM</th><th scope=col>AMZN</th><th scope=col>AMD</th><th scope=col>GM</th><th scope=col>F</th><th scope=col>GE</th><th scope=col>BA</th></tr></thead>\n",
       "<tbody>\n",
       "\t<tr><td>2020-03-02</td><td>26703.3   </td><td>345.9987  </td><td>1389.11   </td><td>132.5227  </td><td>1953.95   </td><td>47.46     </td><td>31.04133  </td><td>7.20      </td><td>11.19888  </td><td>289.27    </td></tr>\n",
       "\t<tr><td>2020-03-03</td><td>25917.4   </td><td>337.9839  </td><td>1341.39   </td><td>127.1942  </td><td>1908.99   </td><td>46.75     </td><td>30.15217  </td><td>6.97      </td><td>10.86921  </td><td>280.62    </td></tr>\n",
       "\t<tr><td>2020-03-04</td><td>27090.9   </td><td>340.3933  </td><td>1386.52   </td><td>132.4438  </td><td>1975.83   </td><td>50.11     </td><td>31.15000  </td><td>7.08      </td><td>10.93914  </td><td>283.12    </td></tr>\n",
       "\t<tr><td>2020-03-05</td><td>26121.3   </td><td>331.5721  </td><td>1319.04   </td><td>127.8356  </td><td>1924.03   </td><td>48.11     </td><td>30.10000  </td><td>6.74      </td><td>10.07000  </td><td>260.37    </td></tr>\n",
       "\t<tr><td>2020-03-06</td><td>25864.8   </td><td>334.9373  </td><td>1298.41   </td><td>126.0397  </td><td>1901.09   </td><td>48.59     </td><td>28.69000  </td><td>6.49      </td><td> 9.40000  </td><td>262.33    </td></tr>\n",
       "\t<tr><td>2020-03-09</td><td>23851.0   </td><td>335.1962  </td><td>1215.56   </td><td>116.2509  </td><td>1800.61   </td><td>43.27     </td><td>24.69000  </td><td>5.90      </td><td> 8.21000  </td><td>227.17    </td></tr>\n",
       "</tbody>\n",
       "</table>\n"
      ],
      "text/latex": [
       "\\begin{tabular}{r|lllllllllll}\n",
       " Date & DJI & DPZ & GOOG & IBM & AMZN & AMD & GM & F & GE & BA\\\\\n",
       "\\hline\n",
       "\t 2020-03-02 & 26703.3    & 345.9987   & 1389.11    & 132.5227   & 1953.95    & 47.46      & 31.04133   & 7.20       & 11.19888   & 289.27    \\\\\n",
       "\t 2020-03-03 & 25917.4    & 337.9839   & 1341.39    & 127.1942   & 1908.99    & 46.75      & 30.15217   & 6.97       & 10.86921   & 280.62    \\\\\n",
       "\t 2020-03-04 & 27090.9    & 340.3933   & 1386.52    & 132.4438   & 1975.83    & 50.11      & 31.15000   & 7.08       & 10.93914   & 283.12    \\\\\n",
       "\t 2020-03-05 & 26121.3    & 331.5721   & 1319.04    & 127.8356   & 1924.03    & 48.11      & 30.10000   & 6.74       & 10.07000   & 260.37    \\\\\n",
       "\t 2020-03-06 & 25864.8    & 334.9373   & 1298.41    & 126.0397   & 1901.09    & 48.59      & 28.69000   & 6.49       &  9.40000   & 262.33    \\\\\n",
       "\t 2020-03-09 & 23851.0    & 335.1962   & 1215.56    & 116.2509   & 1800.61    & 43.27      & 24.69000   & 5.90       &  8.21000   & 227.17    \\\\\n",
       "\\end{tabular}\n"
      ],
      "text/markdown": [
       "\n",
       "| Date | DJI | DPZ | GOOG | IBM | AMZN | AMD | GM | F | GE | BA |\n",
       "|---|---|---|---|---|---|---|---|---|---|---|\n",
       "| 2020-03-02 | 26703.3    | 345.9987   | 1389.11    | 132.5227   | 1953.95    | 47.46      | 31.04133   | 7.20       | 11.19888   | 289.27     |\n",
       "| 2020-03-03 | 25917.4    | 337.9839   | 1341.39    | 127.1942   | 1908.99    | 46.75      | 30.15217   | 6.97       | 10.86921   | 280.62     |\n",
       "| 2020-03-04 | 27090.9    | 340.3933   | 1386.52    | 132.4438   | 1975.83    | 50.11      | 31.15000   | 7.08       | 10.93914   | 283.12     |\n",
       "| 2020-03-05 | 26121.3    | 331.5721   | 1319.04    | 127.8356   | 1924.03    | 48.11      | 30.10000   | 6.74       | 10.07000   | 260.37     |\n",
       "| 2020-03-06 | 25864.8    | 334.9373   | 1298.41    | 126.0397   | 1901.09    | 48.59      | 28.69000   | 6.49       |  9.40000   | 262.33     |\n",
       "| 2020-03-09 | 23851.0    | 335.1962   | 1215.56    | 116.2509   | 1800.61    | 43.27      | 24.69000   | 5.90       |  8.21000   | 227.17     |\n",
       "\n"
      ],
      "text/plain": [
       "  Date       DJI     DPZ      GOOG    IBM      AMZN    AMD   GM       F   \n",
       "1 2020-03-02 26703.3 345.9987 1389.11 132.5227 1953.95 47.46 31.04133 7.20\n",
       "2 2020-03-03 25917.4 337.9839 1341.39 127.1942 1908.99 46.75 30.15217 6.97\n",
       "3 2020-03-04 27090.9 340.3933 1386.52 132.4438 1975.83 50.11 31.15000 7.08\n",
       "4 2020-03-05 26121.3 331.5721 1319.04 127.8356 1924.03 48.11 30.10000 6.74\n",
       "5 2020-03-06 25864.8 334.9373 1298.41 126.0397 1901.09 48.59 28.69000 6.49\n",
       "6 2020-03-09 23851.0 335.1962 1215.56 116.2509 1800.61 43.27 24.69000 5.90\n",
       "  GE       BA    \n",
       "1 11.19888 289.27\n",
       "2 10.86921 280.62\n",
       "3 10.93914 283.12\n",
       "4 10.07000 260.37\n",
       "5  9.40000 262.33\n",
       "6  8.21000 227.17"
      ]
     },
     "metadata": {},
     "output_type": "display_data"
    },
    {
     "data": {
      "text/html": [
       "<table>\n",
       "<thead><tr><th scope=col>Date</th><th scope=col>DJI</th><th scope=col>DPZ</th><th scope=col>GOOG</th><th scope=col>IBM</th><th scope=col>AMZN</th><th scope=col>AMD</th><th scope=col>GM</th><th scope=col>F</th><th scope=col>GE</th><th scope=col>BA</th></tr></thead>\n",
       "<tbody>\n",
       "\t<tr><td>2020-05-21</td><td>24474.1   </td><td>374.4754  </td><td>1402.80   </td><td>119.12    </td><td>2446.74   </td><td>54.65     </td><td>25.80     </td><td>5.63      </td><td>6.48      </td><td>139.00    </td></tr>\n",
       "\t<tr><td>2020-05-22</td><td>24465.2   </td><td>371.3418  </td><td>1410.42   </td><td>118.39    </td><td>2436.88   </td><td>55.17     </td><td>25.98     </td><td>5.65      </td><td>6.41      </td><td>137.53    </td></tr>\n",
       "\t<tr><td>2020-05-26</td><td>24995.1   </td><td>359.4261  </td><td>1417.02   </td><td>121.76    </td><td>2421.86   </td><td>53.19     </td><td>27.40     </td><td>5.84      </td><td>6.80      </td><td>144.73    </td></tr>\n",
       "\t<tr><td>2020-05-27</td><td>25548.3   </td><td>373.2080  </td><td>1417.84   </td><td>125.54    </td><td>2410.39   </td><td>52.74     </td><td>27.79     </td><td>6.03      </td><td>7.29      </td><td>149.52    </td></tr>\n",
       "\t<tr><td>2020-05-28</td><td>25400.6   </td><td>364.8051  </td><td>1416.73   </td><td>124.53    </td><td>2401.10   </td><td>51.74     </td><td>26.68     </td><td>5.85      </td><td>6.78      </td><td>149.82    </td></tr>\n",
       "\t<tr><td>2020-05-29</td><td>25383.1   </td><td>385.0538  </td><td>1428.92   </td><td>124.90    </td><td>2442.37   </td><td>53.80     </td><td>25.88     </td><td>5.71      </td><td>6.57      </td><td>145.85    </td></tr>\n",
       "</tbody>\n",
       "</table>\n"
      ],
      "text/latex": [
       "\\begin{tabular}{r|lllllllllll}\n",
       " Date & DJI & DPZ & GOOG & IBM & AMZN & AMD & GM & F & GE & BA\\\\\n",
       "\\hline\n",
       "\t 2020-05-21 & 24474.1    & 374.4754   & 1402.80    & 119.12     & 2446.74    & 54.65      & 25.80      & 5.63       & 6.48       & 139.00    \\\\\n",
       "\t 2020-05-22 & 24465.2    & 371.3418   & 1410.42    & 118.39     & 2436.88    & 55.17      & 25.98      & 5.65       & 6.41       & 137.53    \\\\\n",
       "\t 2020-05-26 & 24995.1    & 359.4261   & 1417.02    & 121.76     & 2421.86    & 53.19      & 27.40      & 5.84       & 6.80       & 144.73    \\\\\n",
       "\t 2020-05-27 & 25548.3    & 373.2080   & 1417.84    & 125.54     & 2410.39    & 52.74      & 27.79      & 6.03       & 7.29       & 149.52    \\\\\n",
       "\t 2020-05-28 & 25400.6    & 364.8051   & 1416.73    & 124.53     & 2401.10    & 51.74      & 26.68      & 5.85       & 6.78       & 149.82    \\\\\n",
       "\t 2020-05-29 & 25383.1    & 385.0538   & 1428.92    & 124.90     & 2442.37    & 53.80      & 25.88      & 5.71       & 6.57       & 145.85    \\\\\n",
       "\\end{tabular}\n"
      ],
      "text/markdown": [
       "\n",
       "| Date | DJI | DPZ | GOOG | IBM | AMZN | AMD | GM | F | GE | BA |\n",
       "|---|---|---|---|---|---|---|---|---|---|---|\n",
       "| 2020-05-21 | 24474.1    | 374.4754   | 1402.80    | 119.12     | 2446.74    | 54.65      | 25.80      | 5.63       | 6.48       | 139.00     |\n",
       "| 2020-05-22 | 24465.2    | 371.3418   | 1410.42    | 118.39     | 2436.88    | 55.17      | 25.98      | 5.65       | 6.41       | 137.53     |\n",
       "| 2020-05-26 | 24995.1    | 359.4261   | 1417.02    | 121.76     | 2421.86    | 53.19      | 27.40      | 5.84       | 6.80       | 144.73     |\n",
       "| 2020-05-27 | 25548.3    | 373.2080   | 1417.84    | 125.54     | 2410.39    | 52.74      | 27.79      | 6.03       | 7.29       | 149.52     |\n",
       "| 2020-05-28 | 25400.6    | 364.8051   | 1416.73    | 124.53     | 2401.10    | 51.74      | 26.68      | 5.85       | 6.78       | 149.82     |\n",
       "| 2020-05-29 | 25383.1    | 385.0538   | 1428.92    | 124.90     | 2442.37    | 53.80      | 25.88      | 5.71       | 6.57       | 145.85     |\n",
       "\n"
      ],
      "text/plain": [
       "  Date       DJI     DPZ      GOOG    IBM    AMZN    AMD   GM    F    GE  \n",
       "1 2020-05-21 24474.1 374.4754 1402.80 119.12 2446.74 54.65 25.80 5.63 6.48\n",
       "2 2020-05-22 24465.2 371.3418 1410.42 118.39 2436.88 55.17 25.98 5.65 6.41\n",
       "3 2020-05-26 24995.1 359.4261 1417.02 121.76 2421.86 53.19 27.40 5.84 6.80\n",
       "4 2020-05-27 25548.3 373.2080 1417.84 125.54 2410.39 52.74 27.79 6.03 7.29\n",
       "5 2020-05-28 25400.6 364.8051 1416.73 124.53 2401.10 51.74 26.68 5.85 6.78\n",
       "6 2020-05-29 25383.1 385.0538 1428.92 124.90 2442.37 53.80 25.88 5.71 6.57\n",
       "  BA    \n",
       "1 139.00\n",
       "2 137.53\n",
       "3 144.73\n",
       "4 149.52\n",
       "5 149.82\n",
       "6 145.85"
      ]
     },
     "metadata": {},
     "output_type": "display_data"
    }
   ],
   "source": [
    "#Merge the stock Details to form a portfolio\n",
    "dji<-as.data.table(Ad(DJI))\n",
    "dpz<-as.data.table(Ad(DPZ))\n",
    "goog<-as.data.table(Ad(GOOG))\n",
    "ibm<-as.data.table(Ad(IBM))\n",
    "amzn<-as.data.table(Ad(AMZN))\n",
    "amd<-as.data.table(Ad(AMD))\n",
    "gm<-as.data.table(Ad(GM))\n",
    "f<-as.data.table(Ad(F))\n",
    "ge<-as.data.table(Ad(GE))\n",
    "ba<-as.data.table(Ad(BA))\n",
    "portfolio<-join_all(list(dji,dpz,goog,ibm,amzn,amd,gm,f,ge,ba), by='index', type='left')\n",
    "colnames(portfolio)<-c(\"Date\",\"DJI\",\"DPZ\",\"GOOG\",\"IBM\",\"AMZN\",\"AMD\",\"GM\",\"F\",\"GE\",\"BA\")\n",
    "portfolio<-na.omit(portfolio)\n",
    "head(portfolio)\n",
    "tail(portfolio)\n"
   ]
  },
  {
   "cell_type": "markdown",
   "metadata": {},
   "source": [
    "### Generate Missingness"
   ]
  },
  {
   "cell_type": "code",
   "execution_count": 6,
   "metadata": {},
   "outputs": [],
   "source": [
    "df <- subset(portfolio, select = -Date )\n",
    "#To set Percentage Missingness for Patterns\n",
    "myfreq <- c(0.05,0.05, 0.075, 0.075, 0.1,0.1, 0.125,0.125,0.15,0.15)\n",
    "amputedf<-ampute(df,prop=0.5,freq=myfreq,mech=\"MAR\")\n"
   ]
  },
  {
   "cell_type": "code",
   "execution_count": 7,
   "metadata": {},
   "outputs": [
    {
     "data": {
      "text/html": [
       "<table>\n",
       "<thead><tr><th scope=col>DJI</th><th scope=col>DPZ</th><th scope=col>GOOG</th><th scope=col>IBM</th><th scope=col>AMZN</th><th scope=col>AMD</th><th scope=col>GM</th><th scope=col>F</th><th scope=col>GE</th><th scope=col>BA</th></tr></thead>\n",
       "<tbody>\n",
       "\t<tr><td>0</td><td>1</td><td>1</td><td>1</td><td>1</td><td>1</td><td>1</td><td>1</td><td>1</td><td>1</td></tr>\n",
       "\t<tr><td>1</td><td>0</td><td>1</td><td>1</td><td>1</td><td>1</td><td>1</td><td>1</td><td>1</td><td>1</td></tr>\n",
       "\t<tr><td>1</td><td>1</td><td>0</td><td>1</td><td>1</td><td>1</td><td>1</td><td>1</td><td>1</td><td>1</td></tr>\n",
       "\t<tr><td>1</td><td>1</td><td>1</td><td>0</td><td>1</td><td>1</td><td>1</td><td>1</td><td>1</td><td>1</td></tr>\n",
       "\t<tr><td>1</td><td>1</td><td>1</td><td>1</td><td>0</td><td>1</td><td>1</td><td>1</td><td>1</td><td>1</td></tr>\n",
       "\t<tr><td>1</td><td>1</td><td>1</td><td>1</td><td>1</td><td>0</td><td>1</td><td>1</td><td>1</td><td>1</td></tr>\n",
       "\t<tr><td>1</td><td>1</td><td>1</td><td>1</td><td>1</td><td>1</td><td>0</td><td>1</td><td>1</td><td>1</td></tr>\n",
       "\t<tr><td>1</td><td>1</td><td>1</td><td>1</td><td>1</td><td>1</td><td>1</td><td>0</td><td>1</td><td>1</td></tr>\n",
       "\t<tr><td>1</td><td>1</td><td>1</td><td>1</td><td>1</td><td>1</td><td>1</td><td>1</td><td>0</td><td>1</td></tr>\n",
       "\t<tr><td>1</td><td>1</td><td>1</td><td>1</td><td>1</td><td>1</td><td>1</td><td>1</td><td>1</td><td>0</td></tr>\n",
       "</tbody>\n",
       "</table>\n"
      ],
      "text/latex": [
       "\\begin{tabular}{r|llllllllll}\n",
       " DJI & DPZ & GOOG & IBM & AMZN & AMD & GM & F & GE & BA\\\\\n",
       "\\hline\n",
       "\t 0 & 1 & 1 & 1 & 1 & 1 & 1 & 1 & 1 & 1\\\\\n",
       "\t 1 & 0 & 1 & 1 & 1 & 1 & 1 & 1 & 1 & 1\\\\\n",
       "\t 1 & 1 & 0 & 1 & 1 & 1 & 1 & 1 & 1 & 1\\\\\n",
       "\t 1 & 1 & 1 & 0 & 1 & 1 & 1 & 1 & 1 & 1\\\\\n",
       "\t 1 & 1 & 1 & 1 & 0 & 1 & 1 & 1 & 1 & 1\\\\\n",
       "\t 1 & 1 & 1 & 1 & 1 & 0 & 1 & 1 & 1 & 1\\\\\n",
       "\t 1 & 1 & 1 & 1 & 1 & 1 & 0 & 1 & 1 & 1\\\\\n",
       "\t 1 & 1 & 1 & 1 & 1 & 1 & 1 & 0 & 1 & 1\\\\\n",
       "\t 1 & 1 & 1 & 1 & 1 & 1 & 1 & 1 & 0 & 1\\\\\n",
       "\t 1 & 1 & 1 & 1 & 1 & 1 & 1 & 1 & 1 & 0\\\\\n",
       "\\end{tabular}\n"
      ],
      "text/markdown": [
       "\n",
       "| DJI | DPZ | GOOG | IBM | AMZN | AMD | GM | F | GE | BA |\n",
       "|---|---|---|---|---|---|---|---|---|---|\n",
       "| 0 | 1 | 1 | 1 | 1 | 1 | 1 | 1 | 1 | 1 |\n",
       "| 1 | 0 | 1 | 1 | 1 | 1 | 1 | 1 | 1 | 1 |\n",
       "| 1 | 1 | 0 | 1 | 1 | 1 | 1 | 1 | 1 | 1 |\n",
       "| 1 | 1 | 1 | 0 | 1 | 1 | 1 | 1 | 1 | 1 |\n",
       "| 1 | 1 | 1 | 1 | 0 | 1 | 1 | 1 | 1 | 1 |\n",
       "| 1 | 1 | 1 | 1 | 1 | 0 | 1 | 1 | 1 | 1 |\n",
       "| 1 | 1 | 1 | 1 | 1 | 1 | 0 | 1 | 1 | 1 |\n",
       "| 1 | 1 | 1 | 1 | 1 | 1 | 1 | 0 | 1 | 1 |\n",
       "| 1 | 1 | 1 | 1 | 1 | 1 | 1 | 1 | 0 | 1 |\n",
       "| 1 | 1 | 1 | 1 | 1 | 1 | 1 | 1 | 1 | 0 |\n",
       "\n"
      ],
      "text/plain": [
       "   DJI DPZ GOOG IBM AMZN AMD GM F GE BA\n",
       "1  0   1   1    1   1    1   1  1 1  1 \n",
       "2  1   0   1    1   1    1   1  1 1  1 \n",
       "3  1   1   0    1   1    1   1  1 1  1 \n",
       "4  1   1   1    0   1    1   1  1 1  1 \n",
       "5  1   1   1    1   0    1   1  1 1  1 \n",
       "6  1   1   1    1   1    0   1  1 1  1 \n",
       "7  1   1   1    1   1    1   0  1 1  1 \n",
       "8  1   1   1    1   1    1   1  0 1  1 \n",
       "9  1   1   1    1   1    1   1  1 0  1 \n",
       "10 1   1   1    1   1    1   1  1 1  0 "
      ]
     },
     "metadata": {},
     "output_type": "display_data"
    }
   ],
   "source": [
    "#check Pattern\n",
    "amputedf$pattern"
   ]
  },
  {
   "cell_type": "code",
   "execution_count": 8,
   "metadata": {},
   "outputs": [
    {
     "data": {
      "text/html": [
       "<table>\n",
       "<thead><tr><th scope=col>DJI</th><th scope=col>DPZ</th><th scope=col>GOOG</th><th scope=col>IBM</th><th scope=col>AMZN</th><th scope=col>AMD</th><th scope=col>GM</th><th scope=col>F</th><th scope=col>GE</th><th scope=col>BA</th></tr></thead>\n",
       "<tbody>\n",
       "\t<tr><td>0</td><td>1</td><td>1</td><td>1</td><td>1</td><td>1</td><td>1</td><td>1</td><td>1</td><td>1</td></tr>\n",
       "\t<tr><td>1</td><td>0</td><td>1</td><td>1</td><td>1</td><td>1</td><td>1</td><td>1</td><td>1</td><td>1</td></tr>\n",
       "\t<tr><td>1</td><td>1</td><td>0</td><td>1</td><td>1</td><td>1</td><td>1</td><td>1</td><td>1</td><td>1</td></tr>\n",
       "\t<tr><td>1</td><td>1</td><td>1</td><td>0</td><td>1</td><td>1</td><td>1</td><td>1</td><td>1</td><td>1</td></tr>\n",
       "\t<tr><td>1</td><td>1</td><td>1</td><td>1</td><td>0</td><td>1</td><td>1</td><td>1</td><td>1</td><td>1</td></tr>\n",
       "\t<tr><td>1</td><td>1</td><td>1</td><td>1</td><td>1</td><td>0</td><td>1</td><td>1</td><td>1</td><td>1</td></tr>\n",
       "\t<tr><td>1</td><td>1</td><td>1</td><td>1</td><td>1</td><td>1</td><td>0</td><td>1</td><td>1</td><td>1</td></tr>\n",
       "\t<tr><td>1</td><td>1</td><td>1</td><td>1</td><td>1</td><td>1</td><td>1</td><td>0</td><td>1</td><td>1</td></tr>\n",
       "\t<tr><td>1</td><td>1</td><td>1</td><td>1</td><td>1</td><td>1</td><td>1</td><td>1</td><td>0</td><td>1</td></tr>\n",
       "\t<tr><td>1</td><td>1</td><td>1</td><td>1</td><td>1</td><td>1</td><td>1</td><td>1</td><td>1</td><td>0</td></tr>\n",
       "</tbody>\n",
       "</table>\n"
      ],
      "text/latex": [
       "\\begin{tabular}{r|llllllllll}\n",
       " DJI & DPZ & GOOG & IBM & AMZN & AMD & GM & F & GE & BA\\\\\n",
       "\\hline\n",
       "\t 0 & 1 & 1 & 1 & 1 & 1 & 1 & 1 & 1 & 1\\\\\n",
       "\t 1 & 0 & 1 & 1 & 1 & 1 & 1 & 1 & 1 & 1\\\\\n",
       "\t 1 & 1 & 0 & 1 & 1 & 1 & 1 & 1 & 1 & 1\\\\\n",
       "\t 1 & 1 & 1 & 0 & 1 & 1 & 1 & 1 & 1 & 1\\\\\n",
       "\t 1 & 1 & 1 & 1 & 0 & 1 & 1 & 1 & 1 & 1\\\\\n",
       "\t 1 & 1 & 1 & 1 & 1 & 0 & 1 & 1 & 1 & 1\\\\\n",
       "\t 1 & 1 & 1 & 1 & 1 & 1 & 0 & 1 & 1 & 1\\\\\n",
       "\t 1 & 1 & 1 & 1 & 1 & 1 & 1 & 0 & 1 & 1\\\\\n",
       "\t 1 & 1 & 1 & 1 & 1 & 1 & 1 & 1 & 0 & 1\\\\\n",
       "\t 1 & 1 & 1 & 1 & 1 & 1 & 1 & 1 & 1 & 0\\\\\n",
       "\\end{tabular}\n"
      ],
      "text/markdown": [
       "\n",
       "| DJI | DPZ | GOOG | IBM | AMZN | AMD | GM | F | GE | BA |\n",
       "|---|---|---|---|---|---|---|---|---|---|\n",
       "| 0 | 1 | 1 | 1 | 1 | 1 | 1 | 1 | 1 | 1 |\n",
       "| 1 | 0 | 1 | 1 | 1 | 1 | 1 | 1 | 1 | 1 |\n",
       "| 1 | 1 | 0 | 1 | 1 | 1 | 1 | 1 | 1 | 1 |\n",
       "| 1 | 1 | 1 | 0 | 1 | 1 | 1 | 1 | 1 | 1 |\n",
       "| 1 | 1 | 1 | 1 | 0 | 1 | 1 | 1 | 1 | 1 |\n",
       "| 1 | 1 | 1 | 1 | 1 | 0 | 1 | 1 | 1 | 1 |\n",
       "| 1 | 1 | 1 | 1 | 1 | 1 | 0 | 1 | 1 | 1 |\n",
       "| 1 | 1 | 1 | 1 | 1 | 1 | 1 | 0 | 1 | 1 |\n",
       "| 1 | 1 | 1 | 1 | 1 | 1 | 1 | 1 | 0 | 1 |\n",
       "| 1 | 1 | 1 | 1 | 1 | 1 | 1 | 1 | 1 | 0 |\n",
       "\n"
      ],
      "text/plain": [
       "   DJI DPZ GOOG IBM AMZN AMD GM F GE BA\n",
       "1  0   1   1    1   1    1   1  1 1  1 \n",
       "2  1   0   1    1   1    1   1  1 1  1 \n",
       "3  1   1   0    1   1    1   1  1 1  1 \n",
       "4  1   1   1    0   1    1   1  1 1  1 \n",
       "5  1   1   1    1   0    1   1  1 1  1 \n",
       "6  1   1   1    1   1    0   1  1 1  1 \n",
       "7  1   1   1    1   1    1   0  1 1  1 \n",
       "8  1   1   1    1   1    1   1  0 1  1 \n",
       "9  1   1   1    1   1    1   1  1 0  1 \n",
       "10 1   1   1    1   1    1   1  1 1  0 "
      ]
     },
     "metadata": {},
     "output_type": "display_data"
    }
   ],
   "source": [
    "#Check Weight\n",
    "amputedf$weights"
   ]
  },
  {
   "cell_type": "code",
   "execution_count": 9,
   "metadata": {},
   "outputs": [
    {
     "data": {
      "text/html": [
       "<ol class=list-inline>\n",
       "\t<li>0.05</li>\n",
       "\t<li>0.05</li>\n",
       "\t<li>0.075</li>\n",
       "\t<li>0.075</li>\n",
       "\t<li>0.1</li>\n",
       "\t<li>0.1</li>\n",
       "\t<li>0.125</li>\n",
       "\t<li>0.125</li>\n",
       "\t<li>0.15</li>\n",
       "\t<li>0.15</li>\n",
       "</ol>\n"
      ],
      "text/latex": [
       "\\begin{enumerate*}\n",
       "\\item 0.05\n",
       "\\item 0.05\n",
       "\\item 0.075\n",
       "\\item 0.075\n",
       "\\item 0.1\n",
       "\\item 0.1\n",
       "\\item 0.125\n",
       "\\item 0.125\n",
       "\\item 0.15\n",
       "\\item 0.15\n",
       "\\end{enumerate*}\n"
      ],
      "text/markdown": [
       "1. 0.05\n",
       "2. 0.05\n",
       "3. 0.075\n",
       "4. 0.075\n",
       "5. 0.1\n",
       "6. 0.1\n",
       "7. 0.125\n",
       "8. 0.125\n",
       "9. 0.15\n",
       "10. 0.15\n",
       "\n",
       "\n"
      ],
      "text/plain": [
       " [1] 0.050 0.050 0.075 0.075 0.100 0.100 0.125 0.125 0.150 0.150"
      ]
     },
     "metadata": {},
     "output_type": "display_data"
    }
   ],
   "source": [
    "#Check Frequency\n",
    "amputedf$freq"
   ]
  },
  {
   "cell_type": "code",
   "execution_count": 10,
   "metadata": {},
   "outputs": [
    {
     "data": {
      "text/html": [
       "<table>\n",
       "<thead><tr><th scope=col>DJI</th><th scope=col>DPZ</th><th scope=col>GOOG</th><th scope=col>IBM</th><th scope=col>AMZN</th><th scope=col>AMD</th><th scope=col>GM</th><th scope=col>F</th><th scope=col>GE</th><th scope=col>BA</th></tr></thead>\n",
       "<tbody>\n",
       "\t<tr><td>26703.3 </td><td>345.9987</td><td>1389.11 </td><td>132.5227</td><td>1953.95 </td><td>47.46   </td><td>31.04133</td><td>7.20    </td><td>11.19888</td><td>    NA  </td></tr>\n",
       "\t<tr><td>25917.4 </td><td>337.9839</td><td>1341.39 </td><td>      NA</td><td>1908.99 </td><td>46.75   </td><td>30.15217</td><td>6.97    </td><td>10.86921</td><td>280.62  </td></tr>\n",
       "\t<tr><td>27090.9 </td><td>340.3933</td><td>1386.52 </td><td>132.4438</td><td>1975.83 </td><td>50.11   </td><td>31.15000</td><td>7.08    </td><td>10.93914</td><td>283.12  </td></tr>\n",
       "\t<tr><td>26121.3 </td><td>331.5721</td><td>1319.04 </td><td>127.8356</td><td>1924.03 </td><td>48.11   </td><td>      NA</td><td>6.74    </td><td>10.07000</td><td>260.37  </td></tr>\n",
       "\t<tr><td>25864.8 </td><td>      NA</td><td>1298.41 </td><td>126.0397</td><td>1901.09 </td><td>48.59   </td><td>28.69000</td><td>6.49    </td><td> 9.40000</td><td>262.33  </td></tr>\n",
       "\t<tr><td>23851.0 </td><td>335.1962</td><td>1215.56 </td><td>116.2509</td><td>1800.61 </td><td>43.27   </td><td>24.69000</td><td>5.90    </td><td> 8.21000</td><td>227.17  </td></tr>\n",
       "</tbody>\n",
       "</table>\n"
      ],
      "text/latex": [
       "\\begin{tabular}{r|llllllllll}\n",
       " DJI & DPZ & GOOG & IBM & AMZN & AMD & GM & F & GE & BA\\\\\n",
       "\\hline\n",
       "\t 26703.3  & 345.9987 & 1389.11  & 132.5227 & 1953.95  & 47.46    & 31.04133 & 7.20     & 11.19888 &     NA  \\\\\n",
       "\t 25917.4  & 337.9839 & 1341.39  &       NA & 1908.99  & 46.75    & 30.15217 & 6.97     & 10.86921 & 280.62  \\\\\n",
       "\t 27090.9  & 340.3933 & 1386.52  & 132.4438 & 1975.83  & 50.11    & 31.15000 & 7.08     & 10.93914 & 283.12  \\\\\n",
       "\t 26121.3  & 331.5721 & 1319.04  & 127.8356 & 1924.03  & 48.11    &       NA & 6.74     & 10.07000 & 260.37  \\\\\n",
       "\t 25864.8  &       NA & 1298.41  & 126.0397 & 1901.09  & 48.59    & 28.69000 & 6.49     &  9.40000 & 262.33  \\\\\n",
       "\t 23851.0  & 335.1962 & 1215.56  & 116.2509 & 1800.61  & 43.27    & 24.69000 & 5.90     &  8.21000 & 227.17  \\\\\n",
       "\\end{tabular}\n"
      ],
      "text/markdown": [
       "\n",
       "| DJI | DPZ | GOOG | IBM | AMZN | AMD | GM | F | GE | BA |\n",
       "|---|---|---|---|---|---|---|---|---|---|\n",
       "| 26703.3  | 345.9987 | 1389.11  | 132.5227 | 1953.95  | 47.46    | 31.04133 | 7.20     | 11.19888 |     NA   |\n",
       "| 25917.4  | 337.9839 | 1341.39  |       NA | 1908.99  | 46.75    | 30.15217 | 6.97     | 10.86921 | 280.62   |\n",
       "| 27090.9  | 340.3933 | 1386.52  | 132.4438 | 1975.83  | 50.11    | 31.15000 | 7.08     | 10.93914 | 283.12   |\n",
       "| 26121.3  | 331.5721 | 1319.04  | 127.8356 | 1924.03  | 48.11    |       NA | 6.74     | 10.07000 | 260.37   |\n",
       "| 25864.8  |       NA | 1298.41  | 126.0397 | 1901.09  | 48.59    | 28.69000 | 6.49     |  9.40000 | 262.33   |\n",
       "| 23851.0  | 335.1962 | 1215.56  | 116.2509 | 1800.61  | 43.27    | 24.69000 | 5.90     |  8.21000 | 227.17   |\n",
       "\n"
      ],
      "text/plain": [
       "  DJI     DPZ      GOOG    IBM      AMZN    AMD   GM       F    GE       BA    \n",
       "1 26703.3 345.9987 1389.11 132.5227 1953.95 47.46 31.04133 7.20 11.19888     NA\n",
       "2 25917.4 337.9839 1341.39       NA 1908.99 46.75 30.15217 6.97 10.86921 280.62\n",
       "3 27090.9 340.3933 1386.52 132.4438 1975.83 50.11 31.15000 7.08 10.93914 283.12\n",
       "4 26121.3 331.5721 1319.04 127.8356 1924.03 48.11       NA 6.74 10.07000 260.37\n",
       "5 25864.8       NA 1298.41 126.0397 1901.09 48.59 28.69000 6.49  9.40000 262.33\n",
       "6 23851.0 335.1962 1215.56 116.2509 1800.61 43.27 24.69000 5.90  8.21000 227.17"
      ]
     },
     "metadata": {},
     "output_type": "display_data"
    }
   ],
   "source": [
    "#Display Amputed Dataset\n",
    "head(amputedf$amp)"
   ]
  },
  {
   "cell_type": "markdown",
   "metadata": {},
   "source": [
    "### KNN to Predict the NA's with Method Median"
   ]
  },
  {
   "cell_type": "code",
   "execution_count": 11,
   "metadata": {},
   "outputs": [
    {
     "data": {
      "text/html": [
       "<table>\n",
       "<thead><tr><th scope=col>Date</th><th scope=col>DJI</th><th scope=col>DPZ</th><th scope=col>GOOG</th><th scope=col>IBM</th><th scope=col>AMZN</th><th scope=col>AMD</th><th scope=col>GM</th><th scope=col>F</th><th scope=col>GE</th><th scope=col>BA</th></tr></thead>\n",
       "<tbody>\n",
       "\t<tr><td>2020-03-02</td><td>26703.3   </td><td>345.9987  </td><td>1389.11   </td><td>132.5227  </td><td>1953.95   </td><td>47.46     </td><td>31.04133  </td><td>7.20      </td><td>11.19888  </td><td>231.01    </td></tr>\n",
       "\t<tr><td>2020-03-03</td><td>25917.4   </td><td>337.9839  </td><td>1341.39   </td><td>123.1188  </td><td>1908.99   </td><td>46.75     </td><td>30.15217  </td><td>6.97      </td><td>10.86921  </td><td>280.62    </td></tr>\n",
       "\t<tr><td>2020-03-04</td><td>27090.9   </td><td>340.3933  </td><td>1386.52   </td><td>132.4438  </td><td>1975.83   </td><td>50.11     </td><td>31.15000  </td><td>7.08      </td><td>10.93914  </td><td>283.12    </td></tr>\n",
       "\t<tr><td>2020-03-05</td><td>26121.3   </td><td>331.5721  </td><td>1319.04   </td><td>127.8356  </td><td>1924.03   </td><td>48.11     </td><td>27.12000  </td><td>6.74      </td><td>10.07000  </td><td>260.37    </td></tr>\n",
       "\t<tr><td>2020-03-06</td><td>25864.8   </td><td>340.3933  </td><td>1298.41   </td><td>126.0397  </td><td>1901.09   </td><td>48.59     </td><td>28.69000  </td><td>6.49      </td><td> 9.40000  </td><td>262.33    </td></tr>\n",
       "\t<tr><td>2020-03-09</td><td>23851.0   </td><td>335.1962  </td><td>1215.56   </td><td>116.2509  </td><td>1800.61   </td><td>43.27     </td><td>24.69000  </td><td>5.90      </td><td> 8.21000  </td><td>227.17    </td></tr>\n",
       "</tbody>\n",
       "</table>\n"
      ],
      "text/latex": [
       "\\begin{tabular}{r|lllllllllll}\n",
       " Date & DJI & DPZ & GOOG & IBM & AMZN & AMD & GM & F & GE & BA\\\\\n",
       "\\hline\n",
       "\t 2020-03-02 & 26703.3    & 345.9987   & 1389.11    & 132.5227   & 1953.95    & 47.46      & 31.04133   & 7.20       & 11.19888   & 231.01    \\\\\n",
       "\t 2020-03-03 & 25917.4    & 337.9839   & 1341.39    & 123.1188   & 1908.99    & 46.75      & 30.15217   & 6.97       & 10.86921   & 280.62    \\\\\n",
       "\t 2020-03-04 & 27090.9    & 340.3933   & 1386.52    & 132.4438   & 1975.83    & 50.11      & 31.15000   & 7.08       & 10.93914   & 283.12    \\\\\n",
       "\t 2020-03-05 & 26121.3    & 331.5721   & 1319.04    & 127.8356   & 1924.03    & 48.11      & 27.12000   & 6.74       & 10.07000   & 260.37    \\\\\n",
       "\t 2020-03-06 & 25864.8    & 340.3933   & 1298.41    & 126.0397   & 1901.09    & 48.59      & 28.69000   & 6.49       &  9.40000   & 262.33    \\\\\n",
       "\t 2020-03-09 & 23851.0    & 335.1962   & 1215.56    & 116.2509   & 1800.61    & 43.27      & 24.69000   & 5.90       &  8.21000   & 227.17    \\\\\n",
       "\\end{tabular}\n"
      ],
      "text/markdown": [
       "\n",
       "| Date | DJI | DPZ | GOOG | IBM | AMZN | AMD | GM | F | GE | BA |\n",
       "|---|---|---|---|---|---|---|---|---|---|---|\n",
       "| 2020-03-02 | 26703.3    | 345.9987   | 1389.11    | 132.5227   | 1953.95    | 47.46      | 31.04133   | 7.20       | 11.19888   | 231.01     |\n",
       "| 2020-03-03 | 25917.4    | 337.9839   | 1341.39    | 123.1188   | 1908.99    | 46.75      | 30.15217   | 6.97       | 10.86921   | 280.62     |\n",
       "| 2020-03-04 | 27090.9    | 340.3933   | 1386.52    | 132.4438   | 1975.83    | 50.11      | 31.15000   | 7.08       | 10.93914   | 283.12     |\n",
       "| 2020-03-05 | 26121.3    | 331.5721   | 1319.04    | 127.8356   | 1924.03    | 48.11      | 27.12000   | 6.74       | 10.07000   | 260.37     |\n",
       "| 2020-03-06 | 25864.8    | 340.3933   | 1298.41    | 126.0397   | 1901.09    | 48.59      | 28.69000   | 6.49       |  9.40000   | 262.33     |\n",
       "| 2020-03-09 | 23851.0    | 335.1962   | 1215.56    | 116.2509   | 1800.61    | 43.27      | 24.69000   | 5.90       |  8.21000   | 227.17     |\n",
       "\n"
      ],
      "text/plain": [
       "  Date       DJI     DPZ      GOOG    IBM      AMZN    AMD   GM       F   \n",
       "1 2020-03-02 26703.3 345.9987 1389.11 132.5227 1953.95 47.46 31.04133 7.20\n",
       "2 2020-03-03 25917.4 337.9839 1341.39 123.1188 1908.99 46.75 30.15217 6.97\n",
       "3 2020-03-04 27090.9 340.3933 1386.52 132.4438 1975.83 50.11 31.15000 7.08\n",
       "4 2020-03-05 26121.3 331.5721 1319.04 127.8356 1924.03 48.11 27.12000 6.74\n",
       "5 2020-03-06 25864.8 340.3933 1298.41 126.0397 1901.09 48.59 28.69000 6.49\n",
       "6 2020-03-09 23851.0 335.1962 1215.56 116.2509 1800.61 43.27 24.69000 5.90\n",
       "  GE       BA    \n",
       "1 11.19888 231.01\n",
       "2 10.86921 280.62\n",
       "3 10.93914 283.12\n",
       "4 10.07000 260.37\n",
       "5  9.40000 262.33\n",
       "6  8.21000 227.17"
      ]
     },
     "metadata": {},
     "output_type": "display_data"
    }
   ],
   "source": [
    "knnImpute<-knnImputation(amputedf$amp, scale=T,k =3, meth = 'median')\n",
    "#Add the date back again\n",
    "knnImpute$Date<-portfolio$Date\n",
    "#Re-Order Date as the first column\n",
    "knnImpute<- knnImpute %>% select(Date,DJI,DPZ,GOOG,IBM,AMZN,AMD,GM,F,GE,BA)\n",
    "head(knnImpute)"
   ]
  },
  {
   "cell_type": "code",
   "execution_count": 12,
   "metadata": {},
   "outputs": [],
   "source": [
    "#Write results to CSV\n",
    "write.table(knnImpute, file = \"Impute.csv\")\n"
   ]
  },
  {
   "cell_type": "code",
   "execution_count": 13,
   "metadata": {},
   "outputs": [
    {
     "data": {
      "text/html": [
       "<table>\n",
       "<thead><tr><th scope=col>Date</th><th scope=col>Confirmed</th><th scope=col>Deaths</th><th scope=col>Recovered</th></tr></thead>\n",
       "<tbody>\n",
       "\t<tr><td>2020-03-01</td><td> 88371    </td><td>2996      </td><td>42716     </td></tr>\n",
       "\t<tr><td>2020-03-02</td><td> 90309    </td><td>3085      </td><td>45602     </td></tr>\n",
       "\t<tr><td>2020-03-03</td><td> 92844    </td><td>3160      </td><td>48229     </td></tr>\n",
       "\t<tr><td>2020-03-04</td><td> 95124    </td><td>3254      </td><td>51171     </td></tr>\n",
       "\t<tr><td>2020-03-05</td><td> 97886    </td><td>3348      </td><td>53797     </td></tr>\n",
       "\t<tr><td>2020-03-06</td><td>101800    </td><td>3460      </td><td>55866     </td></tr>\n",
       "</tbody>\n",
       "</table>\n"
      ],
      "text/latex": [
       "\\begin{tabular}{r|llll}\n",
       " Date & Confirmed & Deaths & Recovered\\\\\n",
       "\\hline\n",
       "\t 2020-03-01 &  88371     & 2996       & 42716     \\\\\n",
       "\t 2020-03-02 &  90309     & 3085       & 45602     \\\\\n",
       "\t 2020-03-03 &  92844     & 3160       & 48229     \\\\\n",
       "\t 2020-03-04 &  95124     & 3254       & 51171     \\\\\n",
       "\t 2020-03-05 &  97886     & 3348       & 53797     \\\\\n",
       "\t 2020-03-06 & 101800     & 3460       & 55866     \\\\\n",
       "\\end{tabular}\n"
      ],
      "text/markdown": [
       "\n",
       "| Date | Confirmed | Deaths | Recovered |\n",
       "|---|---|---|---|\n",
       "| 2020-03-01 |  88371     | 2996       | 42716      |\n",
       "| 2020-03-02 |  90309     | 3085       | 45602      |\n",
       "| 2020-03-03 |  92844     | 3160       | 48229      |\n",
       "| 2020-03-04 |  95124     | 3254       | 51171      |\n",
       "| 2020-03-05 |  97886     | 3348       | 53797      |\n",
       "| 2020-03-06 | 101800     | 3460       | 55866      |\n",
       "\n"
      ],
      "text/plain": [
       "  Date       Confirmed Deaths Recovered\n",
       "1 2020-03-01  88371    2996   42716    \n",
       "2 2020-03-02  90309    3085   45602    \n",
       "3 2020-03-03  92844    3160   48229    \n",
       "4 2020-03-04  95124    3254   51171    \n",
       "5 2020-03-05  97886    3348   53797    \n",
       "6 2020-03-06 101800    3460   55866    "
      ]
     },
     "metadata": {},
     "output_type": "display_data"
    }
   ],
   "source": [
    "#Read Covid Data\n",
    "dfcovid <- read.csv(file = 'data/Covid19_6June/covid_19_data.csv', header = TRUE)\n",
    "dfcovid <- subset(dfcovid, select =c(Date,Confirmed,Deaths,Recovered))\n",
    "dfcovid <- dfcovid %>% group_by(Date) %>% summarise_all(sum)\n",
    "dfcovid$Date<-as.Date(dfcovid$Date)\n",
    "dfcovid <- subset(dfcovid, Date >= as.Date(\"2020-03-01\") & Date<= as.Date(\"2020-06-01\"))\n",
    "head(dfcovid)"
   ]
  },
  {
   "cell_type": "markdown",
   "metadata": {},
   "source": [
    "### Merge Covid Dataset & Portfolio"
   ]
  },
  {
   "cell_type": "code",
   "execution_count": 14,
   "metadata": {},
   "outputs": [
    {
     "data": {
      "text/html": [
       "<table>\n",
       "<thead><tr><th scope=col>Date</th><th scope=col>DJI</th><th scope=col>DPZ</th><th scope=col>GOOG</th><th scope=col>IBM</th><th scope=col>AMZN</th><th scope=col>AMD</th><th scope=col>GM</th><th scope=col>F</th><th scope=col>GE</th><th scope=col>BA</th><th scope=col>Confirmed</th><th scope=col>Deaths</th><th scope=col>Recovered</th></tr></thead>\n",
       "<tbody>\n",
       "\t<tr><td>2020-03-02</td><td>26703.3   </td><td>345.9987  </td><td>1389.11   </td><td>132.5227  </td><td>1953.95   </td><td>47.46     </td><td>31.04133  </td><td>7.20      </td><td>11.19888  </td><td>231.01    </td><td> 90309    </td><td>3085      </td><td>45602     </td></tr>\n",
       "\t<tr><td>2020-03-03</td><td>25917.4   </td><td>337.9839  </td><td>1341.39   </td><td>123.1188  </td><td>1908.99   </td><td>46.75     </td><td>30.15217  </td><td>6.97      </td><td>10.86921  </td><td>280.62    </td><td> 92844    </td><td>3160      </td><td>48229     </td></tr>\n",
       "\t<tr><td>2020-03-04</td><td>27090.9   </td><td>340.3933  </td><td>1386.52   </td><td>132.4438  </td><td>1975.83   </td><td>50.11     </td><td>31.15000  </td><td>7.08      </td><td>10.93914  </td><td>283.12    </td><td> 95124    </td><td>3254      </td><td>51171     </td></tr>\n",
       "\t<tr><td>2020-03-05</td><td>26121.3   </td><td>331.5721  </td><td>1319.04   </td><td>127.8356  </td><td>1924.03   </td><td>48.11     </td><td>27.12000  </td><td>6.74      </td><td>10.07000  </td><td>260.37    </td><td> 97886    </td><td>3348      </td><td>53797     </td></tr>\n",
       "\t<tr><td>2020-03-06</td><td>25864.8   </td><td>340.3933  </td><td>1298.41   </td><td>126.0397  </td><td>1901.09   </td><td>48.59     </td><td>28.69000  </td><td>6.49      </td><td> 9.40000  </td><td>262.33    </td><td>101800    </td><td>3460      </td><td>55866     </td></tr>\n",
       "\t<tr><td>2020-03-09</td><td>23851.0   </td><td>335.1962  </td><td>1215.56   </td><td>116.2509  </td><td>1800.61   </td><td>43.27     </td><td>24.69000  </td><td>5.90      </td><td> 8.21000  </td><td>227.17    </td><td>113582    </td><td>3996      </td><td>62512     </td></tr>\n",
       "</tbody>\n",
       "</table>\n"
      ],
      "text/latex": [
       "\\begin{tabular}{r|llllllllllllll}\n",
       " Date & DJI & DPZ & GOOG & IBM & AMZN & AMD & GM & F & GE & BA & Confirmed & Deaths & Recovered\\\\\n",
       "\\hline\n",
       "\t 2020-03-02 & 26703.3    & 345.9987   & 1389.11    & 132.5227   & 1953.95    & 47.46      & 31.04133   & 7.20       & 11.19888   & 231.01     &  90309     & 3085       & 45602     \\\\\n",
       "\t 2020-03-03 & 25917.4    & 337.9839   & 1341.39    & 123.1188   & 1908.99    & 46.75      & 30.15217   & 6.97       & 10.86921   & 280.62     &  92844     & 3160       & 48229     \\\\\n",
       "\t 2020-03-04 & 27090.9    & 340.3933   & 1386.52    & 132.4438   & 1975.83    & 50.11      & 31.15000   & 7.08       & 10.93914   & 283.12     &  95124     & 3254       & 51171     \\\\\n",
       "\t 2020-03-05 & 26121.3    & 331.5721   & 1319.04    & 127.8356   & 1924.03    & 48.11      & 27.12000   & 6.74       & 10.07000   & 260.37     &  97886     & 3348       & 53797     \\\\\n",
       "\t 2020-03-06 & 25864.8    & 340.3933   & 1298.41    & 126.0397   & 1901.09    & 48.59      & 28.69000   & 6.49       &  9.40000   & 262.33     & 101800     & 3460       & 55866     \\\\\n",
       "\t 2020-03-09 & 23851.0    & 335.1962   & 1215.56    & 116.2509   & 1800.61    & 43.27      & 24.69000   & 5.90       &  8.21000   & 227.17     & 113582     & 3996       & 62512     \\\\\n",
       "\\end{tabular}\n"
      ],
      "text/markdown": [
       "\n",
       "| Date | DJI | DPZ | GOOG | IBM | AMZN | AMD | GM | F | GE | BA | Confirmed | Deaths | Recovered |\n",
       "|---|---|---|---|---|---|---|---|---|---|---|---|---|---|\n",
       "| 2020-03-02 | 26703.3    | 345.9987   | 1389.11    | 132.5227   | 1953.95    | 47.46      | 31.04133   | 7.20       | 11.19888   | 231.01     |  90309     | 3085       | 45602      |\n",
       "| 2020-03-03 | 25917.4    | 337.9839   | 1341.39    | 123.1188   | 1908.99    | 46.75      | 30.15217   | 6.97       | 10.86921   | 280.62     |  92844     | 3160       | 48229      |\n",
       "| 2020-03-04 | 27090.9    | 340.3933   | 1386.52    | 132.4438   | 1975.83    | 50.11      | 31.15000   | 7.08       | 10.93914   | 283.12     |  95124     | 3254       | 51171      |\n",
       "| 2020-03-05 | 26121.3    | 331.5721   | 1319.04    | 127.8356   | 1924.03    | 48.11      | 27.12000   | 6.74       | 10.07000   | 260.37     |  97886     | 3348       | 53797      |\n",
       "| 2020-03-06 | 25864.8    | 340.3933   | 1298.41    | 126.0397   | 1901.09    | 48.59      | 28.69000   | 6.49       |  9.40000   | 262.33     | 101800     | 3460       | 55866      |\n",
       "| 2020-03-09 | 23851.0    | 335.1962   | 1215.56    | 116.2509   | 1800.61    | 43.27      | 24.69000   | 5.90       |  8.21000   | 227.17     | 113582     | 3996       | 62512      |\n",
       "\n"
      ],
      "text/plain": [
       "  Date       DJI     DPZ      GOOG    IBM      AMZN    AMD   GM       F   \n",
       "1 2020-03-02 26703.3 345.9987 1389.11 132.5227 1953.95 47.46 31.04133 7.20\n",
       "2 2020-03-03 25917.4 337.9839 1341.39 123.1188 1908.99 46.75 30.15217 6.97\n",
       "3 2020-03-04 27090.9 340.3933 1386.52 132.4438 1975.83 50.11 31.15000 7.08\n",
       "4 2020-03-05 26121.3 331.5721 1319.04 127.8356 1924.03 48.11 27.12000 6.74\n",
       "5 2020-03-06 25864.8 340.3933 1298.41 126.0397 1901.09 48.59 28.69000 6.49\n",
       "6 2020-03-09 23851.0 335.1962 1215.56 116.2509 1800.61 43.27 24.69000 5.90\n",
       "  GE       BA     Confirmed Deaths Recovered\n",
       "1 11.19888 231.01  90309    3085   45602    \n",
       "2 10.86921 280.62  92844    3160   48229    \n",
       "3 10.93914 283.12  95124    3254   51171    \n",
       "4 10.07000 260.37  97886    3348   53797    \n",
       "5  9.40000 262.33 101800    3460   55866    \n",
       "6  8.21000 227.17 113582    3996   62512    "
      ]
     },
     "metadata": {},
     "output_type": "display_data"
    },
    {
     "data": {
      "text/html": [
       "<table>\n",
       "<thead><tr><th></th><th scope=col>Date</th><th scope=col>DJI</th><th scope=col>DPZ</th><th scope=col>GOOG</th><th scope=col>IBM</th><th scope=col>AMZN</th><th scope=col>AMD</th><th scope=col>GM</th><th scope=col>F</th><th scope=col>GE</th><th scope=col>BA</th><th scope=col>Confirmed</th><th scope=col>Deaths</th><th scope=col>Recovered</th></tr></thead>\n",
       "<tbody>\n",
       "\t<tr><th scope=row>57</th><td>2020-05-21</td><td>24474.1   </td><td>374.4754  </td><td>1402.80   </td><td>119.12    </td><td>2446.74   </td><td>54.59     </td><td>25.80     </td><td>5.63      </td><td>6.48      </td><td>139.00    </td><td>5102424   </td><td>332924    </td><td>1948739   </td></tr>\n",
       "\t<tr><th scope=row>58</th><td>2020-05-22</td><td>24465.2   </td><td>371.3418  </td><td>1410.42   </td><td>118.39    </td><td>2436.88   </td><td>55.17     </td><td>24.81     </td><td>5.65      </td><td>6.41      </td><td>137.53    </td><td>5210817   </td><td>338160    </td><td>2056643   </td></tr>\n",
       "\t<tr><th scope=row>59</th><td>2020-05-26</td><td>24995.1   </td><td>359.4261  </td><td>1417.02   </td><td>121.76    </td><td>2421.86   </td><td>53.19     </td><td>27.40     </td><td>5.84      </td><td>6.80      </td><td>144.73    </td><td>5589626   </td><td>350453    </td><td>2286956   </td></tr>\n",
       "\t<tr><th scope=row>60</th><td>2020-05-27</td><td>25548.3   </td><td>373.2080  </td><td>1417.84   </td><td>125.54    </td><td>2410.39   </td><td>52.74     </td><td>27.79     </td><td>6.03      </td><td>7.29      </td><td>144.73    </td><td>5691790   </td><td>355629    </td><td>2350088   </td></tr>\n",
       "\t<tr><th scope=row>61</th><td>2020-05-28</td><td>25400.6   </td><td>364.8051  </td><td>1416.73   </td><td>124.53    </td><td>2401.10   </td><td>51.74     </td><td>26.68     </td><td>5.85      </td><td>6.78      </td><td>149.82    </td><td>5808946   </td><td>360308    </td><td>2415960   </td></tr>\n",
       "\t<tr><th scope=row>62</th><td>2020-05-29</td><td>25383.1   </td><td>385.0538  </td><td>1428.92   </td><td>124.90    </td><td>2421.86   </td><td>53.80     </td><td>25.88     </td><td>5.71      </td><td>6.57      </td><td>145.85    </td><td>5924275   </td><td>364867    </td><td>2493535   </td></tr>\n",
       "</tbody>\n",
       "</table>\n"
      ],
      "text/latex": [
       "\\begin{tabular}{r|llllllllllllll}\n",
       "  & Date & DJI & DPZ & GOOG & IBM & AMZN & AMD & GM & F & GE & BA & Confirmed & Deaths & Recovered\\\\\n",
       "\\hline\n",
       "\t57 & 2020-05-21 & 24474.1    & 374.4754   & 1402.80    & 119.12     & 2446.74    & 54.59      & 25.80      & 5.63       & 6.48       & 139.00     & 5102424    & 332924     & 1948739   \\\\\n",
       "\t58 & 2020-05-22 & 24465.2    & 371.3418   & 1410.42    & 118.39     & 2436.88    & 55.17      & 24.81      & 5.65       & 6.41       & 137.53     & 5210817    & 338160     & 2056643   \\\\\n",
       "\t59 & 2020-05-26 & 24995.1    & 359.4261   & 1417.02    & 121.76     & 2421.86    & 53.19      & 27.40      & 5.84       & 6.80       & 144.73     & 5589626    & 350453     & 2286956   \\\\\n",
       "\t60 & 2020-05-27 & 25548.3    & 373.2080   & 1417.84    & 125.54     & 2410.39    & 52.74      & 27.79      & 6.03       & 7.29       & 144.73     & 5691790    & 355629     & 2350088   \\\\\n",
       "\t61 & 2020-05-28 & 25400.6    & 364.8051   & 1416.73    & 124.53     & 2401.10    & 51.74      & 26.68      & 5.85       & 6.78       & 149.82     & 5808946    & 360308     & 2415960   \\\\\n",
       "\t62 & 2020-05-29 & 25383.1    & 385.0538   & 1428.92    & 124.90     & 2421.86    & 53.80      & 25.88      & 5.71       & 6.57       & 145.85     & 5924275    & 364867     & 2493535   \\\\\n",
       "\\end{tabular}\n"
      ],
      "text/markdown": [
       "\n",
       "| <!--/--> | Date | DJI | DPZ | GOOG | IBM | AMZN | AMD | GM | F | GE | BA | Confirmed | Deaths | Recovered |\n",
       "|---|---|---|---|---|---|---|---|---|---|---|---|---|---|---|\n",
       "| 57 | 2020-05-21 | 24474.1    | 374.4754   | 1402.80    | 119.12     | 2446.74    | 54.59      | 25.80      | 5.63       | 6.48       | 139.00     | 5102424    | 332924     | 1948739    |\n",
       "| 58 | 2020-05-22 | 24465.2    | 371.3418   | 1410.42    | 118.39     | 2436.88    | 55.17      | 24.81      | 5.65       | 6.41       | 137.53     | 5210817    | 338160     | 2056643    |\n",
       "| 59 | 2020-05-26 | 24995.1    | 359.4261   | 1417.02    | 121.76     | 2421.86    | 53.19      | 27.40      | 5.84       | 6.80       | 144.73     | 5589626    | 350453     | 2286956    |\n",
       "| 60 | 2020-05-27 | 25548.3    | 373.2080   | 1417.84    | 125.54     | 2410.39    | 52.74      | 27.79      | 6.03       | 7.29       | 144.73     | 5691790    | 355629     | 2350088    |\n",
       "| 61 | 2020-05-28 | 25400.6    | 364.8051   | 1416.73    | 124.53     | 2401.10    | 51.74      | 26.68      | 5.85       | 6.78       | 149.82     | 5808946    | 360308     | 2415960    |\n",
       "| 62 | 2020-05-29 | 25383.1    | 385.0538   | 1428.92    | 124.90     | 2421.86    | 53.80      | 25.88      | 5.71       | 6.57       | 145.85     | 5924275    | 364867     | 2493535    |\n",
       "\n"
      ],
      "text/plain": [
       "   Date       DJI     DPZ      GOOG    IBM    AMZN    AMD   GM    F    GE  \n",
       "57 2020-05-21 24474.1 374.4754 1402.80 119.12 2446.74 54.59 25.80 5.63 6.48\n",
       "58 2020-05-22 24465.2 371.3418 1410.42 118.39 2436.88 55.17 24.81 5.65 6.41\n",
       "59 2020-05-26 24995.1 359.4261 1417.02 121.76 2421.86 53.19 27.40 5.84 6.80\n",
       "60 2020-05-27 25548.3 373.2080 1417.84 125.54 2410.39 52.74 27.79 6.03 7.29\n",
       "61 2020-05-28 25400.6 364.8051 1416.73 124.53 2401.10 51.74 26.68 5.85 6.78\n",
       "62 2020-05-29 25383.1 385.0538 1428.92 124.90 2421.86 53.80 25.88 5.71 6.57\n",
       "   BA     Confirmed Deaths Recovered\n",
       "57 139.00 5102424   332924 1948739  \n",
       "58 137.53 5210817   338160 2056643  \n",
       "59 144.73 5589626   350453 2286956  \n",
       "60 144.73 5691790   355629 2350088  \n",
       "61 149.82 5808946   360308 2415960  \n",
       "62 145.85 5924275   364867 2493535  "
      ]
     },
     "metadata": {},
     "output_type": "display_data"
    }
   ],
   "source": [
    "#Merge Dataset of covid and Portfolio\n",
    "dfcovidportfolio<-merge(knnImpute,dfcovid, by = c(\"Date\"))\n",
    "head(dfcovidportfolio)\n",
    "tail(dfcovidportfolio)"
   ]
  }
 ],
 "metadata": {
  "kernelspec": {
   "display_name": "R",
   "language": "R",
   "name": "ir"
  },
  "language_info": {
   "codemirror_mode": "r",
   "file_extension": ".r",
   "mimetype": "text/x-r-source",
   "name": "R",
   "pygments_lexer": "r",
   "version": "3.6.1"
  }
 },
 "nbformat": 4,
 "nbformat_minor": 4
}
